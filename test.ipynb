{
 "cells": [
  {
   "cell_type": "code",
   "execution_count": null,
   "metadata": {},
   "outputs": [],
   "source": [
    "from base import getlink\n",
    "import os\n",
    "import pandas as pd\n",
    "import multiprocessing\n",
    "\n",
    "p = 'A:/DataLake/SSC/Phase2/'\n",
    "ps_y = f'{p}Year/'\n",
    "ps_q = f'{p}Quarter/'\n",
    "\n",
    "web  = getlink.get()\n",
    "list_folder=[p, ps_y, ps_q]\n",
    "for folder in list_folder:\n",
    "    if (os.path.exists(folder) == False) or (os.path.isdir(folder) == False):\n",
    "        os.mkdir(folder)\n",
    "\n",
    "all_com = pd.read_excel('base/data/List_Com_Phase2.xlsx')['Symbol']\n",
    "Symbol = list(all_com)\n",
    "\n",
    "def KeoBaoCaoTaiChinhNam(symbol):\n",
    "    for year in ['2017', '2018', '2019', '2020', '2021']:\n",
    "        web.login(symbol, year).to_csv(f'{ps_y}{symbol}_{year}.csv', index = False)\n",
    "    for quy in range(1,5):\n",
    "        for nam in range(2017, 2022):\n",
    "            year = f'QUÝ {quy} {nam}'\n",
    "            web.login(symbol, year, 'QUY').to_csv(f'{ps_q}{symbol}_{year}.csv', index = False)\n",
    "    web.login(symbol, year, 'QUY').to_csv(f'{ps_q}{symbol}_QUÝ 1 2022.csv', index = False)\n",
    "\n",
    "def multip():\n",
    "    pool = multiprocessing.Pool(processes=4)\n",
    "    for symbol in Symbol:\n",
    "      pool.apply_async(KeoBaoCaoTaiChinhNam,args=(symbol,))\n",
    "    pool.close()\n",
    "    pool.join()\n",
    "\n",
    "if __name__ == '__main__':\n",
    "    multip()"
   ]
  },
  {
   "cell_type": "code",
   "execution_count": null,
   "metadata": {},
   "outputs": [],
   "source": []
  }
 ],
 "metadata": {
  "language_info": {
   "name": "python"
  },
  "orig_nbformat": 4
 },
 "nbformat": 4,
 "nbformat_minor": 2
}
